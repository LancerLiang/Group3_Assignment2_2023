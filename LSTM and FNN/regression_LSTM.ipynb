{
 "cells": [
  {
   "cell_type": "code",
   "execution_count": null,
   "id": "579130ca",
   "metadata": {},
   "outputs": [],
   "source": [
    "#Import package\n",
    "import numpy as np\n",
    "import pandas as pd\n",
    "from keras.models import Sequential\n",
    "from keras.layers import SimpleRNN,Dense,LSTM\n",
    "from keras.layers import Flatten\n",
    "from sklearn.model_selection import StratifiedKFold, train_test_split, GridSearchCV\n",
    "from sklearn.model_selection import GroupShuffleSplit\n",
    "from sklearn import preprocessing\n",
    "from sklearn.metrics import r2_score, mean_squared_error, mean_absolute_error\n",
    "\n"
   ]
  },
  {
   "cell_type": "code",
   "execution_count": null,
   "id": "2c8dcbf9",
   "metadata": {},
   "outputs": [],
   "source": [
    "#Load pre-processed data\n",
    "dataframe = pd.read_csv(\"timesteps=2_NeuralNetwork_new.csv\")\n",
    "dataframe.head()\n",
    "\n",
    "\n",
    "#Split to training and testing data by proportion if testing = 0.2\n",
    "gss = GroupShuffleSplit(n_splits=1, test_size=0.2, random_state=42)\n",
    "train_idx,test_idx=next(gss.split(dataframe,groups=dataframe['stay_id']))\n",
    "\n",
    "\n",
    "#get x and y variables for training and testing data\n",
    "train_data=dataframe.iloc[train_idx] # data\n",
    "y_train=train_data['vent_duration'] # label\n",
    "\n",
    "x_train=train_data.drop(['Unnamed: 0','stay_id','vent_duration'],axis=1) # data\n",
    "scaler=preprocessing.StandardScaler()\n",
    "x_train=scaler.fit_transform(x_train)\n",
    "\n",
    "#\n",
    "test_data=dataframe.iloc[test_idx] # data\n",
    "y_test=test_data['vent_duration'] # label\n",
    "\n",
    "x_test=test_data.drop(['Unnamed: 0','stay_id','vent_duration'],axis=1) # data\n",
    "scaler=preprocessing.StandardScaler()\n",
    "x_test=scaler.fit_transform(x_test)\n"
   ]
  },
  {
   "cell_type": "code",
   "execution_count": null,
   "id": "bab1f863",
   "metadata": {},
   "outputs": [],
   "source": [
    "#Reshape the x and y variables for both training and testing data to fit the LSTM\n",
    "\n",
    "y_train1=y_train[::2]\n",
    "\n",
    "x_train=x_train.reshape(-1,2,12)\n",
    "\n",
    "x_test=x_test.reshape(-1,2,12)\n"
   ]
  },
  {
   "cell_type": "code",
   "execution_count": null,
   "id": "a76945fd",
   "metadata": {},
   "outputs": [],
   "source": [
    "#Build LSTM model with 3 layers\n",
    "#3 stacks LSTM layers followed by a fully-connected layer with ReLU activation function, \n",
    "#and then a finally a fully-connected alter with a linear activation function which \n",
    "#served as an output\n",
    "\n",
    "model=Sequential()\n",
    "model.add(LSTM(50,input_shape=(2,12), activation = 'relu'))\n",
    "model.add(Dense(25, activation = 'relu'))\n",
    "model.add(Dense(units=1,activation='linear'))\n",
    "\n",
    "model.compile(loss='mse',optimizer='adam', metrics=['mse', 'mae'])\n",
    "\n",
    "\n",
    "model.fit(x_train,y_train1, epochs=20, verbose=0)\n"
   ]
  },
  {
   "cell_type": "code",
   "execution_count": null,
   "id": "a18d0565",
   "metadata": {},
   "outputs": [],
   "source": [
    "predictions=model.predict(x_test)"
   ]
  },
  {
   "cell_type": "code",
   "execution_count": null,
   "outputs": [],
   "source": [
    "y_test1=y_test[::2]"
   ],
   "metadata": {
    "collapsed": false
   }
  },
  {
   "cell_type": "code",
   "execution_count": null,
   "outputs": [],
   "source": [
    "#Model evalution\n"
   ],
   "metadata": {
    "collapsed": false
   }
  },
  {
   "cell_type": "code",
   "execution_count": null,
   "outputs": [],
   "source": [
    "# Calculate R-squared\n",
    "r2 = r2_score(y_test1, predictions)\n",
    "\n",
    "# Calculate RMSE\n",
    "rmse = np.sqrt(mean_squared_error(y_test1, predictions))\n",
    "\n",
    "# Calculate MSE\n",
    "mse = mean_squared_error(y_test1, predictions)\n",
    "\n",
    "# Calculate MAE\n",
    "mae = mean_absolute_error(y_test1, predictions)\n",
    "\n",
    "# Print the evaluation metrics\n",
    "print('R-squared:', r2)\n",
    "print('RMSE:', rmse)\n",
    "print('MSE:', mse)\n",
    "print('MAE:', mae)"
   ],
   "metadata": {
    "collapsed": false
   }
  }
 ],
 "metadata": {
  "kernelspec": {
   "display_name": "Python 3 (ipykernel)",
   "language": "python",
   "name": "python3"
  },
  "language_info": {
   "codemirror_mode": {
    "name": "ipython",
    "version": 3
   },
   "file_extension": ".py",
   "mimetype": "text/x-python",
   "name": "python",
   "nbconvert_exporter": "python",
   "pygments_lexer": "ipython3",
   "version": "3.9.13"
  }
 },
 "nbformat": 4,
 "nbformat_minor": 5
}
