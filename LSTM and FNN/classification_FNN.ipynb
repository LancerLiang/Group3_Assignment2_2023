{
 "cells": [
  {
   "cell_type": "code",
   "execution_count": null,
   "id": "8d6f4e48",
   "metadata": {},
   "outputs": [],
   "source": [
    "#Import package\n",
    "import numpy as np\n",
    "import pandas as pd\n",
    "from keras.models import Sequential\n",
    "from keras.layers import SimpleRNN,Dense,LSTM\n",
    "from sklearn.model_selection import StratifiedKFold, train_test_split, GridSearchCV\n",
    "from sklearn.model_selection import GroupShuffleSplit\n",
    "from sklearn import preprocessing\n",
    "from sklearn.metrics import r2_score, mean_squared_error, mean_absolute_error\n",
    "from sklearn.metrics import accuracy_score, matthews_corrcoef, precision_score, recall_score, f1_score"
   ]
  },
  {
   "cell_type": "code",
   "execution_count": null,
   "id": "61c89cd7",
   "metadata": {},
   "outputs": [],
   "source": [
    "import pandas as pd\n",
    "dataframe = pd.read_csv(\"timesteps=3_NeuralNetwork.csv\")\n",
    "dataframe.head()"
   ]
  },
  {
   "cell_type": "code",
   "execution_count": null,
   "id": "bd8b5787",
   "metadata": {},
   "outputs": [],
   "source": [
    "#Split to training and testing data by proportion if testing = 0.2\n",
    "gss = GroupShuffleSplit(n_splits=1, test_size=0.2, random_state=42)\n",
    "train_idx,test_idx=next(gss.split(dataframe,groups=dataframe['stay_id']))\n",
    "\n",
    "\n",
    "#Define x and y variables, and set the lables for the outcome, also reshape the x to fit the NN\n",
    "train_data=dataframe.iloc[train_idx] # data\n",
    "train_label=train_data['vent_duration'] # label\n",
    "bins=[0,12,24,1000] # label\n",
    "labels=[0,1,2] # label\n",
    "train_label=pd.cut(train_label,bins=bins,labels=labels,include_lowest=True) # label\n",
    "train_label.index=range(train_label.shape[0])\n",
    "y_train=np.empty((train_label.shape[0]//3,1)) #label\n",
    "for i in range(y_train.shape[0]):\n",
    "    y_train[i]=train_label.loc[i*3]\n",
    "\n",
    "x_train=train_data.drop(['timestep','stay_id','vent_duration'],axis=1) # data\n",
    "scaler=preprocessing.StandardScaler()\n",
    "x_train=scaler.fit_transform(x_train)\n",
    "x_train=x_train.reshape(-1,3,12)\n",
    "\n",
    "#\n",
    "test_data=dataframe.iloc[test_idx] # data\n",
    "test_label=test_data['vent_duration'] # label\n",
    "bins=[0,12,24,1000] # label\n",
    "labels=[0,1,2] # label\n",
    "test_label=pd.cut(test_label,bins=bins,labels=labels,include_lowest=True) # label\n",
    "test_label.index=range(test_label.shape[0])\n",
    "y_test=np.empty((test_label.shape[0]//3,1)) #label\n",
    "for j in range(y_test.shape[0]):\n",
    "    y_test[j]=test_label.loc[j*3]\n",
    "\n",
    "x_test=test_data.drop(['timestep','stay_id','vent_duration'],axis=1) # data\n",
    "scaler=preprocessing.StandardScaler()\n",
    "x_test=scaler.fit_transform(x_test)\n",
    "x_test=x_test.reshape(-1,3,12)"
   ]
  },
  {
   "cell_type": "code",
   "execution_count": null,
   "id": "f52ae6ed",
   "metadata": {},
   "outputs": [],
   "source": [
    "#FNN\n",
    "model = Sequential()\n",
    "model.add(Flatten(input_shape=(3, 12)))\n",
    "model.add(Dense(64, activation='relu'))\n",
    "#model.add(Dense(32, activation='relu'))\n",
    "model.add(Dense(3, activation='sigmoid'))\n",
    "\n",
    "model.compile(loss='sparse_categorical_crossentropy',optimizer='adam',metrics=['accuracy'])\n",
    "\n",
    "\n",
    "model.fit(x_train,y_train, epochs=20,  batch_size = 20, verbose=0)\n",
    "\n",
    "predictions=pd.DataFrame(model.predict(x_test))\n",
    "y_pred=np.array(predictions.idxmax(axis=1))\n"
   ]
  },
  {
   "cell_type": "code",
   "execution_count": null,
   "id": "07554ddd",
   "metadata": {},
   "outputs": [],
   "source": [
    "#Evaluation\n",
    "def predict_evaluation(y_test, y_pred):\n",
    "    accuracy = accuracy_score(y_test, y_pred)\n",
    "    MCC = matthews_corrcoef(y_test, y_pred)\n",
    "    precision = precision_score(y_test, y_pred, average='macro')\n",
    "    recall = recall_score(y_test, y_pred, average='macro')\n",
    "    fscore = f1_score(y_test, y_pred, average='macro')\n",
    "    result={'accuracy':accuracy,\n",
    "            'MCC':MCC,\n",
    "            'precision':precision,\n",
    "            'recall':recall,\n",
    "            'fscore':fscore}\n",
    "    return result\n",
    "\n",
    "result=predict_evaluation(y_pred,y_test)"
   ]
  }
 ],
 "metadata": {
  "kernelspec": {
   "display_name": "Python 3 (ipykernel)",
   "language": "python",
   "name": "python3"
  },
  "language_info": {
   "codemirror_mode": {
    "name": "ipython",
    "version": 3
   },
   "file_extension": ".py",
   "mimetype": "text/x-python",
   "name": "python",
   "nbconvert_exporter": "python",
   "pygments_lexer": "ipython3",
   "version": "3.9.13"
  }
 },
 "nbformat": 4,
 "nbformat_minor": 5
}
